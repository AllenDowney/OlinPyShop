{
 "metadata": {
  "name": "",
  "signature": "sha256:2b7d0d0eaf4617e221b5b952a34ce5e8ffaf6ca72335db54be315d748d39ca6a"
 },
 "nbformat": 3,
 "nbformat_minor": 0,
 "worksheets": [
  {
   "cells": [
    {
     "cell_type": "markdown",
     "metadata": {},
     "source": [
      "## Exploring complex numbers with Python\n",
      "\n",
      "Copyright Allen Downey 2015, MIT license\n",
      "\n",
      "This notebook is an example of a process for investigating math topics using Python.  In this case, I follow the presentation in the Wikipedia page for complex numbers (http://en.wikipedia.org/wiki/Complex_number), translating the examples into Python.\n",
      "\n",
      "There are a few ways to write complex numbers in Python.  One option is the built-in function `complex`:"
     ]
    },
    {
     "cell_type": "code",
     "collapsed": false,
     "input": [
      "c = complex(1, 2)\n",
      "c"
     ],
     "language": "python",
     "metadata": {},
     "outputs": [
      {
       "metadata": {},
       "output_type": "pyout",
       "prompt_number": 56,
       "text": [
        "(1+2j)"
       ]
      }
     ],
     "prompt_number": 56
    },
    {
     "cell_type": "markdown",
     "metadata": {},
     "source": [
      "Also, the letter `j` can be appended to any number type to indicate the imaginary unit:"
     ]
    },
    {
     "cell_type": "code",
     "collapsed": false,
     "input": [
      "c = 1 + 2j\n",
      "c"
     ],
     "language": "python",
     "metadata": {},
     "outputs": [
      {
       "metadata": {},
       "output_type": "pyout",
       "prompt_number": 57,
       "text": [
        "(1+2j)"
       ]
      }
     ],
     "prompt_number": 57
    },
    {
     "cell_type": "markdown",
     "metadata": {},
     "source": [
      "Python uses `j` to denote the complext unit, but you might also want to define a variable:"
     ]
    },
    {
     "cell_type": "code",
     "collapsed": false,
     "input": [
      "i = complex(0, 1)\n",
      "i"
     ],
     "language": "python",
     "metadata": {},
     "outputs": [
      {
       "metadata": {},
       "output_type": "pyout",
       "prompt_number": 145,
       "text": [
        "1j"
       ]
      }
     ],
     "prompt_number": 145
    },
    {
     "cell_type": "markdown",
     "metadata": {},
     "source": [
      "###Overview\n",
      "\n",
      "The Wikipedia overview gives an example of an equation with no real solution: $(x+1)^2 = -9$.  We can write a function to test whether `x` is a solution to this equation"
     ]
    },
    {
     "cell_type": "code",
     "collapsed": false,
     "input": [
      "def func(x):\n",
      "    return (x+1)**2 == -9"
     ],
     "language": "python",
     "metadata": {},
     "outputs": [],
     "prompt_number": 146
    },
    {
     "cell_type": "markdown",
     "metadata": {},
     "source": [
      "We can confirm that 1 is not a solution:"
     ]
    },
    {
     "cell_type": "code",
     "collapsed": false,
     "input": [
      "func(1)"
     ],
     "language": "python",
     "metadata": {},
     "outputs": [
      {
       "metadata": {},
       "output_type": "pyout",
       "prompt_number": 148,
       "text": [
        "False"
       ]
      }
     ],
     "prompt_number": 148
    },
    {
     "cell_type": "markdown",
     "metadata": {},
     "source": [
      "And that $-1 + 3i$ is:"
     ]
    },
    {
     "cell_type": "code",
     "collapsed": false,
     "input": [
      "x = -1 + 3 * i\n",
      "func(x)"
     ],
     "language": "python",
     "metadata": {},
     "outputs": [
      {
       "metadata": {},
       "output_type": "pyout",
       "prompt_number": 147,
       "text": [
        "True"
       ]
      }
     ],
     "prompt_number": 147
    },
    {
     "cell_type": "markdown",
     "metadata": {},
     "source": [
      "###Definition\n",
      "\n",
      "The next section of the Wikipedia article defines the real and imaginary parts of a complex number:"
     ]
    },
    {
     "cell_type": "code",
     "collapsed": false,
     "input": [
      "y = -3.5 + 2j"
     ],
     "language": "python",
     "metadata": {},
     "outputs": [],
     "prompt_number": 63
    },
    {
     "cell_type": "markdown",
     "metadata": {},
     "source": [
      "In Python, these parts are accessible as attributes using dot notation:"
     ]
    },
    {
     "cell_type": "code",
     "collapsed": false,
     "input": [
      "y.real"
     ],
     "language": "python",
     "metadata": {},
     "outputs": [
      {
       "metadata": {},
       "output_type": "pyout",
       "prompt_number": 64,
       "text": [
        "-3.5"
       ]
      }
     ],
     "prompt_number": 64
    },
    {
     "cell_type": "code",
     "collapsed": false,
     "input": [
      "y.imag"
     ],
     "language": "python",
     "metadata": {},
     "outputs": [
      {
       "metadata": {},
       "output_type": "pyout",
       "prompt_number": 65,
       "text": [
        "2.0"
       ]
      }
     ],
     "prompt_number": 65
    },
    {
     "cell_type": "markdown",
     "metadata": {},
     "source": [
      "###Complex plane\n",
      "\n",
      "In the complex plane, complex numbers can be described in polar coordinates."
     ]
    },
    {
     "cell_type": "code",
     "collapsed": false,
     "input": [
      "z = 3 + 4j"
     ],
     "language": "python",
     "metadata": {},
     "outputs": [],
     "prompt_number": 150
    },
    {
     "cell_type": "markdown",
     "metadata": {},
     "source": [
      "Python's built-in function, `abs`, computes the absolute value, or magnitude, of a complex number, which is the distance from the origin of the complext plane:"
     ]
    },
    {
     "cell_type": "code",
     "collapsed": false,
     "input": [
      "abs(z)"
     ],
     "language": "python",
     "metadata": {},
     "outputs": [
      {
       "metadata": {},
       "output_type": "pyout",
       "prompt_number": 151,
       "text": [
        "5.0"
       ]
      }
     ],
     "prompt_number": 151
    },
    {
     "cell_type": "markdown",
     "metadata": {},
     "source": [
      "Sadly, there is no built-in function to compute the angle (also called argument or phase).  But the `cmath` module provides `phase` and other useful functions for working with complex numbers."
     ]
    },
    {
     "cell_type": "code",
     "collapsed": false,
     "input": [
      "from cmath import *"
     ],
     "language": "python",
     "metadata": {},
     "outputs": [],
     "prompt_number": 152
    },
    {
     "cell_type": "markdown",
     "metadata": {},
     "source": [
      "`phase` returns the angle of the complex number in radians, relative to the real axis."
     ]
    },
    {
     "cell_type": "code",
     "collapsed": false,
     "input": [
      "phase(z)"
     ],
     "language": "python",
     "metadata": {},
     "outputs": [
      {
       "metadata": {},
       "output_type": "pyout",
       "prompt_number": 69,
       "text": [
        "0.9272952180016122"
       ]
      }
     ],
     "prompt_number": 69
    },
    {
     "cell_type": "markdown",
     "metadata": {},
     "source": [
      "`polar` expresses a complex number in polar form, returning a tuple of magnitude and angle:"
     ]
    },
    {
     "cell_type": "code",
     "collapsed": false,
     "input": [
      "polar(z)"
     ],
     "language": "python",
     "metadata": {},
     "outputs": [
      {
       "metadata": {},
       "output_type": "pyout",
       "prompt_number": 70,
       "text": [
        "(5.0, 0.9272952180016122)"
       ]
      }
     ],
     "prompt_number": 70
    },
    {
     "cell_type": "markdown",
     "metadata": {},
     "source": [
      "###Equality\n",
      "\n",
      "The Relations section of the Wikipedia page defines equality for complex numbers, which is implemented by the `==` operator:"
     ]
    },
    {
     "cell_type": "code",
     "collapsed": false,
     "input": [
      "y == z"
     ],
     "language": "python",
     "metadata": {},
     "outputs": [
      {
       "metadata": {},
       "output_type": "pyout",
       "prompt_number": 71,
       "text": [
        "False"
       ]
      }
     ],
     "prompt_number": 71
    },
    {
     "cell_type": "markdown",
     "metadata": {},
     "source": [
      "###Ordering\n",
      "\n",
      "It also indicates that there is no linear ordering on the complex numbers, so the comparator operators raise an exception:"
     ]
    },
    {
     "cell_type": "code",
     "collapsed": false,
     "input": [
      "# raise TypeError: no ordering relation is defined for complex numbers\n",
      "# y > z"
     ],
     "language": "python",
     "metadata": {},
     "outputs": [],
     "prompt_number": 72
    },
    {
     "cell_type": "markdown",
     "metadata": {},
     "source": [
      "###Conjugation\n",
      "\n",
      "The Elementary Operators section defines the complex conjugate, which is implemented as a method you can invoke on a complex number:"
     ]
    },
    {
     "cell_type": "code",
     "collapsed": false,
     "input": [
      "z.conjugate()"
     ],
     "language": "python",
     "metadata": {},
     "outputs": [
      {
       "metadata": {},
       "output_type": "pyout",
       "prompt_number": 73,
       "text": [
        "(3-4j)"
       ]
      }
     ],
     "prompt_number": 73
    },
    {
     "cell_type": "markdown",
     "metadata": {},
     "source": [
      "Conjugation distributes over arithmetic operations like addition.  To confirm, I'll create a second complex number:"
     ]
    },
    {
     "cell_type": "code",
     "collapsed": false,
     "input": [
      "w = complex(12, 13)"
     ],
     "language": "python",
     "metadata": {},
     "outputs": [],
     "prompt_number": 74
    },
    {
     "cell_type": "markdown",
     "metadata": {},
     "source": [
      "And confirm that $\\bar{z+w} = \\bar{z} + \\bar{w}$:"
     ]
    },
    {
     "cell_type": "code",
     "collapsed": false,
     "input": [
      "(z + w).conjugate() == z.conjugate() + w.conjugate()"
     ],
     "language": "python",
     "metadata": {},
     "outputs": [
      {
       "metadata": {},
       "output_type": "pyout",
       "prompt_number": 75,
       "text": [
        "True"
       ]
      }
     ],
     "prompt_number": 75
    },
    {
     "cell_type": "markdown",
     "metadata": {},
     "source": [
      "Python knows how to compute the reciprocal of a complex number:"
     ]
    },
    {
     "cell_type": "code",
     "collapsed": false,
     "input": [
      "1/z"
     ],
     "language": "python",
     "metadata": {},
     "outputs": [
      {
       "metadata": {},
       "output_type": "pyout",
       "prompt_number": 153,
       "text": [
        "(0.12-0.16j)"
       ]
      }
     ],
     "prompt_number": 153
    },
    {
     "cell_type": "markdown",
     "metadata": {},
     "source": [
      "But we can also check to confirm that $1/z = \\bar{z} / (x^2 + y^2)$:"
     ]
    },
    {
     "cell_type": "code",
     "collapsed": false,
     "input": [
      "1 / z == z.conjugate() / (z.real**2 + z.imag**2)"
     ],
     "language": "python",
     "metadata": {},
     "outputs": [
      {
       "metadata": {},
       "output_type": "pyout",
       "prompt_number": 77,
       "text": [
        "True"
       ]
      }
     ],
     "prompt_number": 77
    },
    {
     "cell_type": "markdown",
     "metadata": {},
     "source": [
      "###Multiplication and division\n",
      "\n",
      "The section on multiplication and division indicates (for the first time, I think) that $i$ is a square root of -1:"
     ]
    },
    {
     "cell_type": "code",
     "collapsed": false,
     "input": [
      "i**2"
     ],
     "language": "python",
     "metadata": {},
     "outputs": [
      {
       "metadata": {},
       "output_type": "pyout",
       "prompt_number": 154,
       "text": [
        "(-1+0j)"
       ]
      }
     ],
     "prompt_number": 154
    },
    {
     "cell_type": "markdown",
     "metadata": {},
     "source": [
      "Now we can confirm the behavior of complex multiplication:"
     ]
    },
    {
     "cell_type": "code",
     "collapsed": false,
     "input": [
      "a, b, c, d = 1, 2, 3, 4\n",
      "(a + b*i) * (c + d*i) == (a*c - b*d) + (b*c + a*d)*i"
     ],
     "language": "python",
     "metadata": {},
     "outputs": [
      {
       "metadata": {},
       "output_type": "pyout",
       "prompt_number": 155,
       "text": [
        "True"
       ]
      }
     ],
     "prompt_number": 155
    },
    {
     "cell_type": "markdown",
     "metadata": {},
     "source": [
      "###Square root\n",
      "\n",
      "Excerise: Use the formulas in the Square root section to compute the square root of $z = 3 - 4i$:"
     ]
    },
    {
     "cell_type": "code",
     "collapsed": false,
     "input": [
      "from numpy import sign\n",
      "\n",
      "# EXERCISE\n",
      "\n",
      "z = 3 - 4*i\n",
      "a, b = z.real, z.imag\n",
      "real = sqrt(a + abs(z))\n",
      "imag = sign(b) * sqrt(-a + abs(z))\n",
      "root_z = complex(real, imag) / sqrt(2)\n",
      "root_z"
     ],
     "language": "python",
     "metadata": {},
     "outputs": [
      {
       "metadata": {},
       "output_type": "pyout",
       "prompt_number": 184,
       "text": [
        "(2-1j)"
       ]
      }
     ],
     "prompt_number": 184
    },
    {
     "cell_type": "markdown",
     "metadata": {},
     "source": [
      "If you check whether your answer is exactly right, it might fail due to floating point approximation:"
     ]
    },
    {
     "cell_type": "code",
     "collapsed": false,
     "input": [
      "root_z**2 == z"
     ],
     "language": "python",
     "metadata": {},
     "outputs": [
      {
       "metadata": {},
       "output_type": "pyout",
       "prompt_number": 185,
       "text": [
        "True"
       ]
      }
     ],
     "prompt_number": 185
    },
    {
     "cell_type": "markdown",
     "metadata": {},
     "source": [
      "But you can check it by hand:"
     ]
    },
    {
     "cell_type": "code",
     "collapsed": false,
     "input": [
      "root_z**2"
     ],
     "language": "python",
     "metadata": {},
     "outputs": [
      {
       "metadata": {},
       "output_type": "pyout",
       "prompt_number": 186,
       "text": [
        "(3-4j)"
       ]
      }
     ],
     "prompt_number": 186
    },
    {
     "cell_type": "markdown",
     "metadata": {},
     "source": [
      "Or check that the difference is small:"
     ]
    },
    {
     "cell_type": "code",
     "collapsed": false,
     "input": [
      "abs(root_z**2 - z)"
     ],
     "language": "python",
     "metadata": {},
     "outputs": [
      {
       "metadata": {},
       "output_type": "pyout",
       "prompt_number": 187,
       "text": [
        "0.0"
       ]
      }
     ],
     "prompt_number": 187
    },
    {
     "cell_type": "markdown",
     "metadata": {},
     "source": [
      "###Polar form\n",
      "\n",
      "The next section takes us back to polar form.  Again, `phase` computes the angle of a complex number:"
     ]
    },
    {
     "cell_type": "code",
     "collapsed": false,
     "input": [
      "phase(z)"
     ],
     "language": "python",
     "metadata": {},
     "outputs": [
      {
       "metadata": {},
       "output_type": "pyout",
       "prompt_number": 167,
       "text": [
        "-0.9272952180016122"
       ]
      }
     ],
     "prompt_number": 167
    },
    {
     "cell_type": "markdown",
     "metadata": {},
     "source": [
      "`phase` can also be defined in terms of `arctan`; the best way to compute it is with `math.atan2`, which correctly figures out which quadrant the number is in:"
     ]
    },
    {
     "cell_type": "code",
     "collapsed": false,
     "input": [
      "from math import atan2\n",
      "\n",
      "atan2(z.imag, z.real)"
     ],
     "language": "python",
     "metadata": {},
     "outputs": [
      {
       "metadata": {},
       "output_type": "pyout",
       "prompt_number": 168,
       "text": [
        "-0.9272952180016122"
       ]
      }
     ],
     "prompt_number": 168
    },
    {
     "cell_type": "markdown",
     "metadata": {},
     "source": [
      "To convert from polar to Cartesian coordinates, you can use trigonometry:"
     ]
    },
    {
     "cell_type": "code",
     "collapsed": false,
     "input": [
      "r, phi = polar(z)\n",
      "r * complex(cos(phi), sin(phi))"
     ],
     "language": "python",
     "metadata": {},
     "outputs": [
      {
       "metadata": {},
       "output_type": "pyout",
       "prompt_number": 169,
       "text": [
        "(3.0000000000000004-3.9999999999999996j)"
       ]
      }
     ],
     "prompt_number": 169
    },
    {
     "cell_type": "markdown",
     "metadata": {},
     "source": [
      "Or use `rect`, which converts to rectangular coordinates."
     ]
    },
    {
     "cell_type": "code",
     "collapsed": false,
     "input": [
      "rect(r, phi)"
     ],
     "language": "python",
     "metadata": {},
     "outputs": [
      {
       "metadata": {},
       "output_type": "pyout",
       "prompt_number": 171,
       "text": [
        "(3.0000000000000004-3.9999999999999996j)"
       ]
      }
     ],
     "prompt_number": 171
    },
    {
     "cell_type": "markdown",
     "metadata": {},
     "source": [
      "###Multiplication and division\n",
      "\n",
      "Exercise: use Python to confirm that $z_1 z_2 = r_1 r_2 (\\cos(\\phi_1 + \\phi_2) + i \\sin(\\phi_1 + \\phi_2))$.  In other words, when you multiply two complex numbers, you multiply the magnitudes and add the angles."
     ]
    },
    {
     "cell_type": "code",
     "collapsed": false,
     "input": [],
     "language": "python",
     "metadata": {},
     "outputs": []
    },
    {
     "cell_type": "markdown",
     "metadata": {},
     "source": [
      "###Euler's formula\n",
      "\n",
      "`cmath` provides `e` and `pi`"
     ]
    },
    {
     "cell_type": "code",
     "collapsed": false,
     "input": [
      "e"
     ],
     "language": "python",
     "metadata": {},
     "outputs": [
      {
       "metadata": {},
       "output_type": "pyout",
       "prompt_number": 188,
       "text": [
        "2.718281828459045"
       ]
      }
     ],
     "prompt_number": 188
    },
    {
     "cell_type": "markdown",
     "metadata": {},
     "source": [
      "Which we can use to compute complex exponentials (see the Exponentiation section):"
     ]
    },
    {
     "cell_type": "code",
     "collapsed": false,
     "input": [
      "x = 2      # angle in radians\n",
      "e**(i*x)"
     ],
     "language": "python",
     "metadata": {},
     "outputs": [
      {
       "metadata": {},
       "output_type": "pyout",
       "prompt_number": 191,
       "text": [
        "(-0.4161468365471424+0.9092974268256817j)"
       ]
      }
     ],
     "prompt_number": 191
    },
    {
     "cell_type": "markdown",
     "metadata": {},
     "source": [
      "Using `pi`, we can test Euler's identity, $e^{i \\pi} = -1$, one of the more exquisite results in mathematics:"
     ]
    },
    {
     "cell_type": "code",
     "collapsed": false,
     "input": [
      "e**(i*pi)"
     ],
     "language": "python",
     "metadata": {},
     "outputs": [
      {
       "metadata": {},
       "output_type": "pyout",
       "prompt_number": 194,
       "text": [
        "(-1+1.2246063538223773e-16j)"
       ]
      }
     ],
     "prompt_number": 194
    },
    {
     "cell_type": "markdown",
     "metadata": {},
     "source": [
      "Or more generally, we can check Euler's formula:"
     ]
    },
    {
     "cell_type": "code",
     "collapsed": false,
     "input": [
      "e**(i*x) == complex(cos(x), sin(x))"
     ],
     "language": "python",
     "metadata": {},
     "outputs": [
      {
       "metadata": {},
       "output_type": "pyout",
       "prompt_number": 193,
       "text": [
        "True"
       ]
      }
     ],
     "prompt_number": 193
    },
    {
     "cell_type": "markdown",
     "metadata": {},
     "source": [
      "###Natural logarithm\n",
      "\n",
      "We can compute natural logarithms by hand:"
     ]
    },
    {
     "cell_type": "code",
     "collapsed": false,
     "input": [
      "log_z = log(r) + phi*i\n",
      "log_z"
     ],
     "language": "python",
     "metadata": {},
     "outputs": [
      {
       "metadata": {},
       "output_type": "pyout",
       "prompt_number": 90,
       "text": [
        "(1.6094379124341003+0.9272952180016122j)"
       ]
      }
     ],
     "prompt_number": 90
    },
    {
     "cell_type": "markdown",
     "metadata": {},
     "source": [
      "Or using the `log` function we imported from `cmath`:"
     ]
    },
    {
     "cell_type": "code",
     "collapsed": false,
     "input": [
      "log(z)"
     ],
     "language": "python",
     "metadata": {},
     "outputs": [
      {
       "metadata": {},
       "output_type": "pyout",
       "prompt_number": 174,
       "text": [
        "(1.6094379124341003-0.9272952180016122j)"
       ]
      }
     ],
     "prompt_number": 174
    },
    {
     "cell_type": "markdown",
     "metadata": {},
     "source": [
      "###Integer and fractional exponents\n",
      "\n",
      "Exercise: test $z^n = r^n(\\cos n \\phi + i \\sin n \\phi)$"
     ]
    },
    {
     "cell_type": "code",
     "collapsed": false,
     "input": [],
     "language": "python",
     "metadata": {},
     "outputs": []
    },
    {
     "cell_type": "markdown",
     "metadata": {},
     "source": [
      "Exercise: test $\\sqrt[n]{z} = \\sqrt[n]{r}(\\cos \\frac{\\phi}{n} + i \\sin \\frac{\\phi}{n})$.  Although in this case note that there are multiple possible results, so you and Python might not generate the same one.  Hint: for your example, choose a value of $z$ with a small angle."
     ]
    },
    {
     "cell_type": "code",
     "collapsed": false,
     "input": [],
     "language": "python",
     "metadata": {},
     "outputs": []
    },
    {
     "cell_type": "markdown",
     "metadata": {},
     "source": [
      "##Application\n",
      "\n",
      "Imaginary numbers turn out to be more useful than we have any reason to expect :)  As an example, I'll demonstrate a method for analyzing circuits.  Specifically, this circuit: <img src=\"http://upload.wikimedia.org/wikipedia/en/1/14/RLC_series_band-pass.svg\" width=\"200\"> which (as we'll see) is a bandpass filter.\n",
      "\n",
      "L is the inductance of an inductor in henry, C is the capacitance of a capacitor in farad, and R is the resistance of a resistor in ohms."
     ]
    },
    {
     "cell_type": "code",
     "collapsed": false,
     "input": [
      "R = 1000    # ohm\n",
      "L = 0.001   # henry\n",
      "C = 0.00001 # farad"
     ],
     "language": "python",
     "metadata": {},
     "outputs": [],
     "prompt_number": 108
    },
    {
     "cell_type": "markdown",
     "metadata": {},
     "source": [
      "You might already be familiar with Ohm's law, which you can use to compute the current through a resistor as a function of voltage: $I = V/R$.\n",
      "\n",
      "Ohm's law can be generalized to handle resistors, capacitors, and inductors, by replacing R (which is a real value) with impedance (which is a complex number).  For AC signals, impedance depends on the frequency of the signal, $f$, in Hz. "
     ]
    },
    {
     "cell_type": "code",
     "collapsed": false,
     "input": [
      "f = 1000    # Hz\n",
      "Z = R + 2*pi*i*f*L + 1 / (2*pi*i*f*C)"
     ],
     "language": "python",
     "metadata": {},
     "outputs": [],
     "prompt_number": 109
    },
    {
     "cell_type": "markdown",
     "metadata": {},
     "source": [
      "Assuming that the input is a 5V signal with frequency 1000 Hz:  "
     ]
    },
    {
     "cell_type": "code",
     "collapsed": false,
     "input": [
      "Vin = 5    # Volt"
     ],
     "language": "python",
     "metadata": {},
     "outputs": [],
     "prompt_number": 110
    },
    {
     "cell_type": "markdown",
     "metadata": {},
     "source": [
      "We can use Ohm's law to compute the current:"
     ]
    },
    {
     "cell_type": "code",
     "collapsed": false,
     "input": [
      "I = Vin / Z\n",
      "I"
     ],
     "language": "python",
     "metadata": {},
     "outputs": [
      {
       "metadata": {},
       "output_type": "pyout",
       "prompt_number": 111,
       "text": [
        "(0.004999536136154376+4.8157076930153816e-05j)"
       ]
      }
     ],
     "prompt_number": 111
    },
    {
     "cell_type": "markdown",
     "metadata": {},
     "source": [
      "And then use Ohm's law again to compute the voltage across the resistor, which is the output signal."
     ]
    },
    {
     "cell_type": "code",
     "collapsed": false,
     "input": [
      "Vout = I * R\n",
      "Vout"
     ],
     "language": "python",
     "metadata": {},
     "outputs": [
      {
       "metadata": {},
       "output_type": "pyout",
       "prompt_number": 112,
       "text": [
        "(4.999536136154376+0.048157076930153815j)"
       ]
      }
     ],
     "prompt_number": 112
    },
    {
     "cell_type": "markdown",
     "metadata": {},
     "source": [
      "The result is a complex number, so it might not be obvious how to interpret it.  It turns out to be a phasor, which is a complex number that represents an AC signal: the magnitude of the phasor is the amplitude of the signal in volts; the angle of the phasor is the phase offset between the input and output signals:"
     ]
    },
    {
     "cell_type": "code",
     "collapsed": false,
     "input": [
      "abs(Vout)"
     ],
     "language": "python",
     "metadata": {},
     "outputs": [
      {
       "metadata": {},
       "output_type": "pyout",
       "prompt_number": 118,
       "text": [
        "4.999768062697697"
       ]
      }
     ],
     "prompt_number": 118
    },
    {
     "cell_type": "markdown",
     "metadata": {},
     "source": [
      "In this case the amplitude is very close to 5V, so this filter \"passes\" signals at 1000 Hz with little attenuation."
     ]
    },
    {
     "cell_type": "code",
     "collapsed": false,
     "input": [
      "phase(Vout)"
     ],
     "language": "python",
     "metadata": {},
     "outputs": [
      {
       "metadata": {},
       "output_type": "pyout",
       "prompt_number": 119,
       "text": [
        "0.009632011118962535"
       ]
      }
     ],
     "prompt_number": 119
    },
    {
     "cell_type": "markdown",
     "metadata": {},
     "source": [
      "The phase shift is quite small, so there is only a short delay between the peak of the input signal and the peak of the output signal.\n",
      "\n",
      "We might be interested to see how this relationship changes for different frequencies.  I'll use `numpy` to make an array of values from $f = 10^0 = 1$ to $f = 10^6$ Hz."
     ]
    },
    {
     "cell_type": "code",
     "collapsed": false,
     "input": [
      "import numpy as np\n",
      "fs = np.logspace(0, 6, 20, base=10)\n",
      "fs"
     ],
     "language": "python",
     "metadata": {},
     "outputs": [
      {
       "metadata": {},
       "output_type": "pyout",
       "prompt_number": 176,
       "text": [
        "array([  1.00000000e+00,   2.06913808e+00,   4.28133240e+00,\n",
        "         8.85866790e+00,   1.83298071e+01,   3.79269019e+01,\n",
        "         7.84759970e+01,   1.62377674e+02,   3.35981829e+02,\n",
        "         6.95192796e+02,   1.43844989e+03,   2.97635144e+03,\n",
        "         6.15848211e+03,   1.27427499e+04,   2.63665090e+04,\n",
        "         5.45559478e+04,   1.12883789e+05,   2.33572147e+05,\n",
        "         4.83293024e+05,   1.00000000e+06])"
       ]
      }
     ],
     "prompt_number": 176
    },
    {
     "cell_type": "markdown",
     "metadata": {},
     "source": [
      "Now we can use the array $fs$ anyplace we previously used the scalar value $f$.  The result is an array of complex impedances."
     ]
    },
    {
     "cell_type": "code",
     "collapsed": false,
     "input": [
      "zs = R + 2*pi*i*fs*L + 1 / (2*pi*i*fs*C)"
     ],
     "language": "python",
     "metadata": {},
     "outputs": [],
     "prompt_number": 132
    },
    {
     "cell_type": "markdown",
     "metadata": {},
     "source": [
      "And we can use Ohm's law again to compute an array of phasors."
     ]
    },
    {
     "cell_type": "code",
     "collapsed": false,
     "input": [
      "v_outs = Vin / zs * R\n",
      "v_outs"
     ],
     "language": "python",
     "metadata": {},
     "outputs": [
      {
       "metadata": {},
       "output_type": "pyout",
       "prompt_number": 133,
       "text": [
        "array([ 0.01966160+0.31292401j,  0.08310574+0.63923559j,\n",
        "        0.33740507+1.25426599j,  1.18271078+2.1247939j ,\n",
        "        2.85108448+2.47522518j,  4.25208232+1.78331364j,\n",
        "        4.80339240+0.97179393j,  4.95339824+0.48045505j,\n",
        "        4.98977902+0.22583275j,  4.99828460+0.0925963j ,\n",
        "        4.99997947+0.01013141j,  4.99910856-0.06675635j,\n",
        "        4.99348863-0.18031769j,  4.96913188-0.39164747j,\n",
        "        4.86738576-0.80342061j,  4.47506691-1.53268089j,\n",
        "        3.32698186-2.35925857j,  1.58549840-2.32673308j,\n",
        "        0.48919568-1.48548511j,  0.12352323-0.77611735j])"
       ]
      }
     ],
     "prompt_number": 133
    },
    {
     "cell_type": "markdown",
     "metadata": {},
     "source": [
      "Again, the magnitudes encode the amplitude of the output signal (in volts) for each frequency: "
     ]
    },
    {
     "cell_type": "code",
     "collapsed": false,
     "input": [
      "magnitudes = abs(v_outs)\n",
      "magnitudes"
     ],
     "language": "python",
     "metadata": {},
     "outputs": [
      {
       "metadata": {},
       "output_type": "pyout",
       "prompt_number": 139,
       "text": [
        "array([ 0.31354109,  0.64461516,  1.2988554 ,  2.43177999,  3.77563536,\n",
        "        4.61090139,  4.90071036,  4.97664457,  4.9948869 ,  4.99914222,\n",
        "        4.99998974,  4.99955426,  4.99674325,  4.98454205,  4.93324729,\n",
        "        4.73025734,  4.07859158,  2.81558022,  1.56396241,  0.78588557])"
       ]
      }
     ],
     "prompt_number": 139
    },
    {
     "cell_type": "markdown",
     "metadata": {},
     "source": [
      "And the angles contain the phase offsets (in radians):"
     ]
    },
    {
     "cell_type": "code",
     "collapsed": false,
     "input": [
      "offsets = np.angle(v_outs)\n",
      "offsets"
     ],
     "language": "python",
     "metadata": {},
     "outputs": [
      {
       "metadata": {},
       "output_type": "pyout",
       "prompt_number": 140,
       "text": [
        "array([ 1.50804694,  1.44151346,  1.30801119,  1.06288192,  0.7149484 ,\n",
        "        0.39711591,  0.19961965,  0.09669257,  0.0452282 ,  0.0185235 ,\n",
        "        0.00202629, -0.01335286, -0.03609488, -0.07865348, -0.16358701,\n",
        "       -0.32997184, -0.61682642, -0.97264462, -1.2526647 , -1.41296474])"
       ]
      }
     ],
     "prompt_number": 140
    },
    {
     "cell_type": "markdown",
     "metadata": {},
     "source": [
      "I'll use matplotlib to plot the results."
     ]
    },
    {
     "cell_type": "code",
     "collapsed": false,
     "input": [
      "import matplotlib.pyplot as plt\n",
      "%matplotlib inline\n",
      "\n",
      "plt.plot(fs, magnitudes)\n",
      "plt.xscale('log')\n",
      "plt.xlabel('frequency (Hz)')\n",
      "plt.ylabel('amplitude (V)')\n",
      "plt.ylim(0, 5.2)"
     ],
     "language": "python",
     "metadata": {},
     "outputs": [
      {
       "metadata": {},
       "output_type": "pyout",
       "prompt_number": 180,
       "text": [
        "(0, 5.2)"
       ]
      },
      {
       "metadata": {},
       "output_type": "display_data",
       "png": "[encoded data removed]",
       "text": [
        "<matplotlib.figure.Figure at 0x7fd7ff0963d0>"
       ]
      }
     ],
     "prompt_number": 180
    },
    {
     "cell_type": "markdown",
     "metadata": {},
     "source": [
      "Between $10^2 = 100$ Hz and $10^4 = 10$ kHz, the output amplitude is close to 5V.  So this circuit \"passes\" signals in this frequency band (which is roughly the range of audible frequencies).  Signals with lower and higher frequencies get attenuated, or \"stopped\".  That's why this circuit is called a \"bandpass filter\".\n",
      "\n",
      "The phase offset also depends on the input frequency."
     ]
    },
    {
     "cell_type": "code",
     "collapsed": false,
     "input": [
      "plt.plot(fs, offsets)\n",
      "plt.xscale('log')\n",
      "plt.xlabel('frequency (Hz)')\n",
      "plt.ylabel('phase offset (radian)')\n",
      "plt.ylim(-pi/2, pi/2)"
     ],
     "language": "python",
     "metadata": {},
     "outputs": [
      {
       "metadata": {},
       "output_type": "pyout",
       "prompt_number": 181,
       "text": [
        "(-1.5707963267948966, 1.5707963267948966)"
       ]
      },
      {
       "metadata": {},
       "output_type": "display_data",
       "png": "[encoded data removed]",
       "text": [
        "<matplotlib.figure.Figure at 0x7fd7fee63c10>"
       ]
      }
     ],
     "prompt_number": 181
    },
    {
     "cell_type": "markdown",
     "metadata": {},
     "source": [
      "In the pass band, the phase offset is small, so there is not much delay between the peak of the input and the peak of the output.  For high frequencies, the offset approaches $\\pi/2$, so the output peaks 90 degrees late.  For very low frequencies, the output peaks 90 degrees early (or 270 degrees late, if you prefer).\n",
      "\n",
      "So that's a pretty neat bit of analysis, considering that all we used was complex multiplication and division."
     ]
    },
    {
     "cell_type": "markdown",
     "metadata": {},
     "source": [
      "Exercise: try out some different values of R, L, and C, and see what effect they have on the output signal.  Can you make a filter with a narrower pass band?  Can you shift the pass band to the left or right?"
     ]
    },
    {
     "cell_type": "code",
     "collapsed": false,
     "input": [],
     "language": "python",
     "metadata": {},
     "outputs": []
    }
   ],
   "metadata": {}
  }
 ]
}